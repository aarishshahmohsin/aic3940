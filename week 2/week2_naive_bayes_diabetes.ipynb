{
 "cells": [
  {
   "cell_type": "code",
   "execution_count": 166,
   "metadata": {},
   "outputs": [],
   "source": [
    "import numpy as np"
   ]
  },
  {
   "cell_type": "code",
   "execution_count": 167,
   "metadata": {},
   "outputs": [],
   "source": [
    "class NaiveBayes:\n",
    "\n",
    "    def fit(self, X, y):\n",
    "        n_samples, n_features = X.shape\n",
    "        self._classes = np.unique(y)\n",
    "        n_classes = len(self._classes)\n",
    "\n",
    "        self._mean = np.zeros((n_classes, n_features))\n",
    "        self._var = np.zeros((n_classes, n_features))\n",
    "        self._prior = np.zeros(n_classes)\n",
    "\n",
    "        for index, c in enumerate(self._classes):\n",
    "            X_c = X[y == c]\n",
    "            self._mean[index, :] = X_c.mean(axis = 0)\n",
    "            self._var[index, :] = X_c.var(axis = 0)\n",
    "            self._prior[index] = X_c.shape[0] / float(n_samples)\n",
    "\n",
    "    def predict(self, X):\n",
    "        y_pred = [self._predict(x) for x in X]\n",
    "        return np.array(y_pred)\n",
    "\n",
    "    def _predict(self, x):\n",
    "        posteriors = []\n",
    "        for index, _ in enumerate(self._classes):\n",
    "            prior = np.log(self._prior[index])\n",
    "            posterior = np.sum(self._efficient_gaussian(index, x))\n",
    "            posterior += prior\n",
    "            posteriors.append(posterior)\n",
    "\n",
    "        return self._classes[np.argmax(posteriors)]\n",
    "\n",
    "    def _gaussian(self, index, x):\n",
    "        mean = self._mean[index]\n",
    "        var = self._var[index]\n",
    "        numerator = np.exp(-((x-mean) ** 2)/(2*var))\n",
    "        denominator = np.sqrt(2 * np.pi * var)\n",
    "        return np.log(numerator / denominator)\n",
    "\n",
    "    def _efficient_gaussian(self, index, x):\n",
    "        mean = self._mean[index]\n",
    "        var = self._var[index]\n",
    "        return -(np.log(2 * np.pi * var)) - (((x - mean) ** 2) / (2 * var))\n",
    "\n"
   ]
  },
  {
   "cell_type": "code",
   "execution_count": 168,
   "metadata": {},
   "outputs": [],
   "source": [
    "data = np.loadtxt(\"./diabetes.csv\", delimiter=',', skiprows=1)\n",
    "np.random.shuffle(data)\n",
    "\n",
    "x = data[:, :-1].astype(float)\n",
    "y = data[:, -1]\n",
    "\n",
    "split_index = int(len(x) * 0.7)\n",
    "\n",
    "X_train = x[:split_index]\n",
    "X_test = x[split_index:]\n",
    "\n",
    "y_train = y[:split_index]\n",
    "y_test = y[split_index:]\n"
   ]
  },
  {
   "cell_type": "code",
   "execution_count": 169,
   "metadata": {},
   "outputs": [],
   "source": [
    "nb = NaiveBayes()\n",
    "\n",
    "nb.fit(X_train, y_train)"
   ]
  },
  {
   "cell_type": "code",
   "execution_count": 170,
   "metadata": {},
   "outputs": [
    {
     "name": "stdout",
     "output_type": "stream",
     "text": [
      "0.7272727272727273\n",
      "0.74487895716946\n"
     ]
    }
   ],
   "source": [
    "y_pred = nb.predict(X_test)\n",
    "y_pred_train = nb.predict(X_train)\n",
    "\n",
    "correct = np.sum(y_pred==y_test)\n",
    "correct_train =  np.sum(y_train==y_pred_train)\n",
    "print(correct / len(y_pred))\n",
    "print(correct_train / len(y_pred_train))"
   ]
  }
 ],
 "metadata": {
  "kernelspec": {
   "display_name": "spacy_env",
   "language": "python",
   "name": "python3"
  },
  "language_info": {
   "codemirror_mode": {
    "name": "ipython",
    "version": 3
   },
   "file_extension": ".py",
   "mimetype": "text/x-python",
   "name": "python",
   "nbconvert_exporter": "python",
   "pygments_lexer": "ipython3",
   "version": "3.12.3"
  }
 },
 "nbformat": 4,
 "nbformat_minor": 2
}
