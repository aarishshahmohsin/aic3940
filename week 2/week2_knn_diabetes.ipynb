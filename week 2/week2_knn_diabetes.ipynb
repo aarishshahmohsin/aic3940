{
 "cells": [
  {
   "cell_type": "code",
   "execution_count": 2,
   "metadata": {},
   "outputs": [],
   "source": [
    "import pandas as pd\n",
    "import numpy as np\n",
    "\n",
    "data = np.loadtxt(\"./diabetes.csv\", delimiter=',', skiprows=1)"
   ]
  },
  {
   "cell_type": "code",
   "execution_count": 3,
   "metadata": {},
   "outputs": [],
   "source": [
    "np_ar = data\n",
    "np.random.shuffle(np_ar)\n",
    "\n",
    "x = np_ar[:, :-1].astype(float)\n",
    "y = np_ar[:, -1]\n",
    "\n",
    "split_index = int(len(x)*0.7)\n",
    "\n",
    "xtrain = x[:split_index]\n",
    "xtest = x[split_index:]\n",
    "\n",
    "ytrain = y[:split_index]\n",
    "ytest = y[split_index:]"
   ]
  },
  {
   "cell_type": "code",
   "execution_count": 4,
   "metadata": {},
   "outputs": [],
   "source": [
    "def find_majority(arr):\n",
    "    candidate = None\n",
    "    votes = 0\n",
    "\n",
    "    for i in range(len(arr)):\n",
    "        if votes == 0:\n",
    "            candidate = arr[i]\n",
    "            votes = 1\n",
    "        else:\n",
    "            if arr[i] == candidate:\n",
    "                votes += 1\n",
    "            else:\n",
    "                votes -= 1\n",
    "\n",
    "    return candidate\n"
   ]
  },
  {
   "cell_type": "code",
   "execution_count": 5,
   "metadata": {},
   "outputs": [],
   "source": [
    "import numpy as np\n",
    "class KNN:\n",
    "    def __init__(self, k=5):\n",
    "        self.k = k\n",
    "\n",
    "    def fit(self, xtrain, ytrain):\n",
    "        self.xtrain = xtrain\n",
    "        self.ytrain = ytrain\n",
    "\n",
    "    def predict(self, x):\n",
    "        distances = np.sum((self.xtrain-x)**2, axis=1)\n",
    "        k_indices = np.argsort(distances)[:self.k]\n",
    "        k_nearest_labels = [self.ytrain[i] for i in k_indices]\n",
    "        most_common = find_majority(k_nearest_labels)\n",
    "        return most_common\n",
    "\n",
    "    def test(self, xtest, ytest):\n",
    "        predictions = [self.predict(x) for x in xtest]\n",
    "        correct = np.sum(predictions==ytest)\n",
    "        return correct / len(xtest)\n"
   ]
  },
  {
   "cell_type": "code",
   "execution_count": 6,
   "metadata": {},
   "outputs": [],
   "source": [
    "knn = KNN(3)\n",
    "knn.fit(xtrain, ytrain)"
   ]
  },
  {
   "cell_type": "code",
   "execution_count": 7,
   "metadata": {},
   "outputs": [
    {
     "name": "stdout",
     "output_type": "stream",
     "text": [
      "0.7445887445887446\n",
      "0.8472998137802608\n"
     ]
    }
   ],
   "source": [
    "print(knn.test(xtest, ytest))\n",
    "print(knn.test(xtrain, ytrain))"
   ]
  }
 ],
 "metadata": {
  "kernelspec": {
   "display_name": "Python 3",
   "language": "python",
   "name": "python3"
  },
  "language_info": {
   "codemirror_mode": {
    "name": "ipython",
    "version": 3
   },
   "file_extension": ".py",
   "mimetype": "text/x-python",
   "name": "python",
   "nbconvert_exporter": "python",
   "pygments_lexer": "ipython3",
   "version": "3.12.3"
  }
 },
 "nbformat": 4,
 "nbformat_minor": 2
}
